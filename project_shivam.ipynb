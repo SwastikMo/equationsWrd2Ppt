{
 "cells": [
  {
   "cell_type": "code",
   "execution_count": 93,
   "id": "cf103ef7",
   "metadata": {},
   "outputs": [
    {
     "name": "stdout",
     "output_type": "stream",
     "text": [
      "Requirement already satisfied: python-docx in c:\\users\\swast\\anaconda3\\lib\\site-packages (0.8.11)\n",
      "Requirement already satisfied: lxml>=2.3.2 in c:\\users\\swast\\anaconda3\\lib\\site-packages (from python-docx) (4.6.3)\n"
     ]
    },
    {
     "name": "stderr",
     "output_type": "stream",
     "text": [
      "\n",
      "[notice] A new release of pip is available: 23.0.1 -> 23.1.2\n",
      "[notice] To update, run: python.exe -m pip install --upgrade pip\n"
     ]
    },
    {
     "name": "stdout",
     "output_type": "stream",
     "text": [
      "Requirement already satisfied: docxlatex in c:\\users\\swast\\anaconda3\\lib\\site-packages (0.1.6)\n",
      "Requirement already satisfied: defusedxml in c:\\users\\swast\\anaconda3\\lib\\site-packages (from docxlatex) (0.7.1)\n"
     ]
    },
    {
     "name": "stderr",
     "output_type": "stream",
     "text": [
      "\n",
      "[notice] A new release of pip is available: 23.0.1 -> 23.1.2\n",
      "[notice] To update, run: python.exe -m pip install --upgrade pip\n"
     ]
    },
    {
     "name": "stdout",
     "output_type": "stream",
     "text": [
      "Requirement already satisfied: python-pptx in c:\\users\\swast\\anaconda3\\lib\\site-packages (0.6.21)\n",
      "Requirement already satisfied: Pillow>=3.3.2 in c:\\users\\swast\\anaconda3\\lib\\site-packages (from python-pptx) (9.4.0)\n"
     ]
    },
    {
     "name": "stderr",
     "output_type": "stream",
     "text": [
      "\n",
      "[notice] A new release of pip is available: 23.0.1 -> 23.1.2\n",
      "[notice] To update, run: python.exe -m pip install --upgrade pip\n"
     ]
    },
    {
     "name": "stdout",
     "output_type": "stream",
     "text": [
      "Requirement already satisfied: lxml>=3.1.0 in c:\\users\\swast\\anaconda3\\lib\\site-packages (from python-pptx) (4.6.3)\n",
      "Requirement already satisfied: XlsxWriter>=0.5.7 in c:\\users\\swast\\anaconda3\\lib\\site-packages (from python-pptx) (3.0.1)\n",
      "Requirement already satisfied: aspose-words in c:\\users\\swast\\anaconda3\\lib\\site-packages (23.5.0)"
     ]
    },
    {
     "name": "stderr",
     "output_type": "stream",
     "text": [
      "\n",
      "[notice] A new release of pip is available: 23.0.1 -> 23.1.2\n",
      "[notice] To update, run: python.exe -m pip install --upgrade pip\n"
     ]
    },
    {
     "name": "stdout",
     "output_type": "stream",
     "text": [
      "\n"
     ]
    }
   ],
   "source": [
    "!pip install python-docx\n",
    "!pip install docxlatex\n",
    "!pip install python-pptx\n",
    "!pip install aspose-words"
   ]
  },
  {
   "cell_type": "code",
   "execution_count": 94,
   "id": "46a58c5b",
   "metadata": {},
   "outputs": [],
   "source": [
    "import aspose.words as aw\n",
    "doc = aw.Document('C://Users//swast//Downloads//Sample_DOCX.docx')\n",
    "shapes = doc.get_child_nodes(aw.NodeType.SHAPE, True) # yeh function saare images ko \n",
    "                                                      # ikatha krke shapes ke andar store kar dega\n",
    "\n",
    "imageIndex = 0\n",
    "for shape in shapes :\n",
    "    shape = shape.as_shape()\n",
    "    #abhi hum saare shapes/images ko ek ek karke apne folder ke andar save krlenge\n",
    "    if (shape.has_image) :\n",
    "        imageFileName = \"C://Users//swast//Downloads//{imgi}.jpeg\".format(imgi = imageIndex)\n",
    "        # C://Users//swast//Downloads// isme apne working folder ka path daaldena \n",
    "        shape.image_data.save(imageFileName)\n",
    "        imageIndex += 1"
   ]
  },
  {
   "cell_type": "code",
   "execution_count": 96,
   "id": "97eace72",
   "metadata": {},
   "outputs": [],
   "source": [
    "from pptx import Presentation\n",
    "import os\n",
    "\n",
    "prs = Presentation()\n",
    "slide = prs.slides.add_slide(prs.slide_layouts[8])\n",
    "placeholder = slide.placeholders[1]\n",
    "picture = placeholder.insert_picture('C://Users//swast//Downloads//0.jpeg')\n",
    "prs.save(\"ESEMPIO.pptx\")\n",
    "os.startfile(\"ESEMPIO.pptx\")"
   ]
  },
  {
   "cell_type": "code",
   "execution_count": 98,
   "id": "cf7b3ba7",
   "metadata": {},
   "outputs": [],
   "source": [
    "import docxlatex\n",
    "document = docxlatex.Document(\"C://Users//swast//Downloads//Sample_DOCX.docx\")\n",
    "# replace file path with given document path\n",
    "equations = document.get_text()"
   ]
  },
  {
   "cell_type": "code",
   "execution_count": 99,
   "id": "7f8be621",
   "metadata": {},
   "outputs": [
    {
     "name": "stdout",
     "output_type": "stream",
     "text": [
      "\n",
      "\n",
      "Options:\n",
      "\n",
      "1) A- 4, B- 1, C- 3, D- 4\n",
      "\n",
      "2) A- 4, B- 1, C- 3, D- 2\n",
      "\n",
      "3) A- 4, B- 1, C- 2, D- 4\n",
      "\n",
      "4) A- 2, B- 1, C- 3, D- 4\n",
      "\n",
      "Correct Answer:\n",
      "\n",
      "3) A- 4, B- 1, C- 2, D- 4\n",
      "\n",
      "\n",
      "IMAGE#1-image1\n",
      "\n",
      "\n",
      "\n",
      "\n",
      "\n",
      "\n",
      "\n",
      "\n",
      "Solution: \n",
      "\n",
      "A) $ fx=x1+sinx3cosx1log1+x2x21+x20∨ $\n",
      "$ x0−21+x2−1+sinx30−2x2+cosx1+x2−x2log1+x $\n",
      "Coefficient of $ x $ is $ −2 $\n",
      "B) $ 13cosθ1sinθ13cosθ1sinθ1∨ $\n",
      "$ 11−3sinθcosθ−3cosθsinθ−3cosθ+1sin2θ−1=9cos2θ−6sinθcosθ+sin2θ=3cosθ−sinθ2≥102=10 $\n",
      "C) As $ a,b,c $ is in A.P then $ a+c=2b $\n",
      "$ fx=x+ax2+11x+b2x2−11x+c3x2−21∨x+a2x2−1−3x2−2−x+bx2+1−3x2−2+x+cx2+1−2x2−1=x+a1−x2−x+b3−2x2+x+c2−x2=a−3b+2c−x2a+c−2b=a−3b+2cf′x=0⇒f′0=0 $\n",
      "D) $ x2x1x6xxx+1∨xxx+1−6x−2x+1−6x+xx−x2 $\n",
      "$ xx2−5x−21−5x+xx−x2=x3−5x2−2+10x+x2−x3=−4x2+10x−2⇒a0=−2 $\n",
      "\n",
      "\n",
      "\n"
     ]
    }
   ],
   "source": [
    "print(equations)"
   ]
  },
  {
   "cell_type": "code",
   "execution_count": 100,
   "id": "31596f47",
   "metadata": {},
   "outputs": [],
   "source": [
    "ind = [] \n",
    "for i in range(len(equations)):\n",
    "    if equations[i] == '$':\n",
    "        ind.append(i)\n",
    "        "
   ]
  },
  {
   "cell_type": "code",
   "execution_count": 101,
   "id": "26d3bb91",
   "metadata": {},
   "outputs": [
    {
     "data": {
      "text/plain": [
       "[203,\n",
       " 237,\n",
       " 239,\n",
       " 281,\n",
       " 298,\n",
       " 302,\n",
       " 307,\n",
       " 312,\n",
       " 317,\n",
       " 344,\n",
       " 346,\n",
       " 428,\n",
       " 436,\n",
       " 444,\n",
       " 461,\n",
       " 470,\n",
       " 472,\n",
       " 608,\n",
       " 613,\n",
       " 650,\n",
       " 652,\n",
       " 709]"
      ]
     },
     "execution_count": 101,
     "metadata": {},
     "output_type": "execute_result"
    }
   ],
   "source": [
    "ind"
   ]
  },
  {
   "cell_type": "code",
   "execution_count": 102,
   "id": "713c28c1",
   "metadata": {},
   "outputs": [],
   "source": [
    "all_equations=[]\n",
    "for i in range(len(ind)-1) : \n",
    "    all_equations.append(equations[ind[i]+1:ind[i+1]])\n",
    "    "
   ]
  },
  {
   "cell_type": "code",
   "execution_count": 103,
   "id": "848bce45",
   "metadata": {},
   "outputs": [
    {
     "data": {
      "text/plain": [
       "[' fx=x1+sinx3cosx1log1+x2x21+x20∨ ',\n",
       " '\\n',\n",
       " ' x0−21+x2−1+sinx30−2x2+cosx1+x2−x2log1+x ',\n",
       " '\\nCoefficient of ',\n",
       " ' x ',\n",
       " ' is ',\n",
       " ' −2 ',\n",
       " '\\nB) ',\n",
       " ' 13cosθ1sinθ13cosθ1sinθ1∨ ',\n",
       " '\\n',\n",
       " ' 11−3sinθcosθ−3cosθsinθ−3cosθ+1sin2θ−1=9cos2θ−6sinθcosθ+sin2θ=3cosθ−sinθ2≥102=10 ',\n",
       " '\\nC) As ',\n",
       " ' a,b,c ',\n",
       " ' is in A.P then ',\n",
       " ' a+c=2b ',\n",
       " '\\n',\n",
       " ' fx=x+ax2+11x+b2x2−11x+c3x2−21∨x+a2x2−1−3x2−2−x+bx2+1−3x2−2+x+cx2+1−2x2−1=x+a1−x2−x+b3−2x2+x+c2−x2=a−3b+2c−x2a+c−2b=a−3b+2cf′x=0⇒f′0=0 ',\n",
       " '\\nD) ',\n",
       " ' x2x1x6xxx+1∨xxx+1−6x−2x+1−6x+xx−x2 ',\n",
       " '\\n',\n",
       " ' xx2−5x−21−5x+xx−x2=x3−5x2−2+10x+x2−x3=−4x2+10x−2⇒a0=−2 ']"
      ]
     },
     "execution_count": 103,
     "metadata": {},
     "output_type": "execute_result"
    }
   ],
   "source": [
    "all_equations"
   ]
  },
  {
   "cell_type": "code",
   "execution_count": 104,
   "id": "5c25bf3e",
   "metadata": {},
   "outputs": [],
   "source": [
    "new_equations = [] \n",
    "for i in all_equations : \n",
    "    if(len(i)>20):\n",
    "        new_equations.append(i)\n",
    "        "
   ]
  },
  {
   "cell_type": "code",
   "execution_count": 105,
   "id": "c2916641",
   "metadata": {},
   "outputs": [
    {
     "data": {
      "text/plain": [
       "[' fx=x1+sinx3cosx1log1+x2x21+x20∨ ',\n",
       " ' x0−21+x2−1+sinx30−2x2+cosx1+x2−x2log1+x ',\n",
       " ' 13cosθ1sinθ13cosθ1sinθ1∨ ',\n",
       " ' 11−3sinθcosθ−3cosθsinθ−3cosθ+1sin2θ−1=9cos2θ−6sinθcosθ+sin2θ=3cosθ−sinθ2≥102=10 ',\n",
       " ' fx=x+ax2+11x+b2x2−11x+c3x2−21∨x+a2x2−1−3x2−2−x+bx2+1−3x2−2+x+cx2+1−2x2−1=x+a1−x2−x+b3−2x2+x+c2−x2=a−3b+2c−x2a+c−2b=a−3b+2cf′x=0⇒f′0=0 ',\n",
       " ' x2x1x6xxx+1∨xxx+1−6x−2x+1−6x+xx−x2 ',\n",
       " ' xx2−5x−21−5x+xx−x2=x3−5x2−2+10x+x2−x3=−4x2+10x−2⇒a0=−2 ']"
      ]
     },
     "execution_count": 105,
     "metadata": {},
     "output_type": "execute_result"
    }
   ],
   "source": [
    "new_equations"
   ]
  },
  {
   "cell_type": "code",
   "execution_count": 106,
   "id": "4294b762",
   "metadata": {},
   "outputs": [],
   "source": [
    "import pptx\n",
    "i=1\n",
    "presentation = pptx.Presentation()\n",
    "\n",
    "for text in new_equations:\n",
    "    slide = presentation.slides.add_slide(presentation.slide_layouts[6])\n",
    "    shape = slide.shapes.add_textbox(100*i, 100*i, 500*i, 500*i)\n",
    "    shape.text = text\n",
    "    i=i+1\n",
    "\n",
    "presentation.save(\"C://Users//swast//Downloads//presentation_equations.pptx\") \n"
   ]
  },
  {
   "cell_type": "code",
   "execution_count": null,
   "id": "c809abda",
   "metadata": {},
   "outputs": [],
   "source": []
  }
 ],
 "metadata": {
  "kernelspec": {
   "display_name": "Python 3 (ipykernel)",
   "language": "python",
   "name": "python3"
  },
  "language_info": {
   "codemirror_mode": {
    "name": "ipython",
    "version": 3
   },
   "file_extension": ".py",
   "mimetype": "text/x-python",
   "name": "python",
   "nbconvert_exporter": "python",
   "pygments_lexer": "ipython3",
   "version": "3.8.11"
  }
 },
 "nbformat": 4,
 "nbformat_minor": 5
}
